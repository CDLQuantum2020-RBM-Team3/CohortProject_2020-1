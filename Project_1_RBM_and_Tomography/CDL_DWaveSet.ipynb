{
  "nbformat": 4,
  "nbformat_minor": 0,
  "metadata": {
    "colab": {
      "name": "CDL_DWaveSet-b.ipynb",
      "provenance": [],
      "collapsed_sections": []
    },
    "kernelspec": {
      "display_name": "Python 3",
      "language": "python",
      "name": "python3"
    },
    "language_info": {
      "codemirror_mode": {
        "name": "ipython",
        "version": 3
      },
      "file_extension": ".py",
      "mimetype": "text/x-python",
      "name": "python",
      "nbconvert_exporter": "python",
      "pygments_lexer": "ipython3",
      "version": "3.7.7"
    }
  },
  "cells": [
    {
      "cell_type": "markdown",
      "metadata": {
        "colab_type": "text",
        "id": "nqrr7ZlrpBgt"
      },
      "source": [
        "# Cohort Project - DWave Data Set\n"
      ]
    },
    {
      "cell_type": "markdown",
      "metadata": {
        "id": "35lzHmMDJuep",
        "colab_type": "text"
      },
      "source": [
        "## DWave README.md content - with notes\n",
        "\n",
        "# Ising data set\n",
        "The provided data set is a collection of samples from an Ising Hamiltonian with pairwise interactions.\n",
        "\n",
        "> [Note 1: see \"Faster solutions of the inverse pairwise Ising problem\"](https://arxiv.org/pdf/0712.2437)\n",
        "\n",
        "\n",
        "# Files\n",
        "\n",
        "The following two files are provided:\n",
        "\n",
        "* Training set: `train_{hashcode}.csv`\n",
        "* Validation set: `val_{hashcose}.csv`\n",
        "* List of pair of correlated variables: `correlated_features.csv`\n",
        "\n",
        "You may use the first file to train a Boltzmann machine and use the second data set to validate the generative model.\n",
        "\n",
        "# Tasks\n",
        "\n",
        "1. Generate 10000 samples\n",
        "2. Ensure the samples are generated from an equilibrated model. What metric do you use to prove equilibrium?\n",
        "3. Report the mean of each Ising variable\n",
        "4. Report the mean correlation of pairs of variables listed in `correlated_features.csv`"
      ]
    },
    {
      "cell_type": "markdown",
      "metadata": {
        "id": "MtUNGS5QLsFg",
        "colab_type": "text"
      },
      "source": [
        "## Excepts from document from note (1)\n",
        "Recent work has shown that probabilistic models based on pairwise interactions—in the simplestcase, the Ising model—provide surprisingly accurate descriptions of experiments on real biologicalnetworks ranging from neurons to genes.  **Finding these models requires us to solve an inverse prob-lem:  given experimentally measured expectation values, what are the parameters of the underlyingHamiltonian?**  This problem sits at the intersection of statistical physics and machine learning, andwe suggest that more efficient solutions are possible by merging ideas from the two fields.  We usea combination of recent coordinate descent algorithms with an adaptation of the histogram MonteCarlo method, and implement these techniques to take advantage of the sparseness found in data onreal neurons.  The resulting algorithm learns the parameters of an Ising model describing a networkof forty neurons within a few minutes.  This opens the possibility of analyzing much larger data setsnow emerging, and thus testing hypotheses about the collective behaviors of these networks."
      ]
    },
    {
      "cell_type": "markdown",
      "metadata": {
        "id": "kgCrXIx1PW8m",
        "colab_type": "text"
      },
      "source": [
        "## Ising Hamiltonian\n",
        "\n",
        "Note 2: Ising describing the state of neurons firing or not with pairwise interaction\n",
        "\n",
        "\n",
        "\n",
        ">$P(\\sigma) = \\frac{1}{Z} exp[ - \\sum_{i} h_{i}\\sigma_{i}^2 - \\frac{1}{2} \\sum_{i\\neq j} J_{ij}\\sigma_{i}\\sigma_{j}]$\n",
        "\n",
        "Note 2b: The DWave specializes on the square braket portion of the formula, so modification and adaptation will probably be needed.\n",
        "\n",
        ">$E(\\sigma)=\\displaystyle\\sum_{i,j∈neigh}J_{i,j}\\sigma_i \\sigma_j+\\displaystyle\\sum_{i∈V}h_i\\sigma_i$\n",
        "\n",
        "## Inverse Problem \n",
        "\n",
        "Note 3: Inverse Problem definition\n",
        "\n",
        "The inverse problem is to : \n",
        "> find the “magnetic fields” ${h_i}$ and “exchange interactions” ${J_{ij}}$ that reproduce the observed values of〈$σ_i$〉and〈$σ_iσ_j$〉\n",
        "\n",
        "## Current Assessment \n",
        "\n",
        "Note 4: If correct, the assessment is that we would use the source data, use RBM to learn it and generate stable samples. Using the pairwise data set, we construct the Ising model for the DWave. We then apply a method (iterative?) to have the DWave propose sets of qubit states for a given Ising set of coefficients. It appears that these coefficients are what we want to generate which solves the Ising for the given data set."
      ]
    },
    {
      "cell_type": "markdown",
      "metadata": {
        "id": "qrCyOzL4RMfm",
        "colab_type": "text"
      },
      "source": [
        "## Ising vs QUBO\n",
        "\n",
        "In Ising we use $\\sigma \\in \\small{\\begin{Bmatrix} -1 \\\\ +1 \\end{Bmatrix}}$ (spins)\n",
        "\n",
        "In QUBO we use $x \\in \\small{\\begin{Bmatrix} 0 \\\\ 1 \\end{Bmatrix}}$ (binary)\n",
        "\n",
        "One may need to convert from one to the other as follows:\n",
        "\n",
        ">$\\sigma = (2x - 1)$\n",
        "\n",
        ">$x = \\cfrac {(\\sigma + 1)}{2}$\n",
        "\n",
        "This may require additional simplification of the Hamiltonian\n"
      ]
    },
    {
      "cell_type": "markdown",
      "metadata": {
        "id": "wvEhm-R-9Uin",
        "colab_type": "text"
      },
      "source": [
        "## Method - Using RBM Trainer\n",
        "\n",
        "### Validation Data\n",
        "\n",
        "We use our Validation data to establish a target energy\n",
        "\n",
        "### Training Data\n",
        "\n",
        "We use the Training data to teach our RBM and train it iteratively, comparing the energy calculation to our validated data energy target.\n",
        "\n",
        "### Equillibrium\n",
        "\n",
        "We determine equillibrium when we get as close of a system energy as our target validated data energy value. We use Rydberg energy calculator.\n",
        "\n",
        "### Final Samples\n",
        "\n",
        "Upon stablizing our RBM data we generate 10000 samples. \n",
        "From this result we produce a graph of the Mean of the Ising Variables in the samples."
      ]
    },
    {
      "cell_type": "code",
      "metadata": {
        "id": "i7UnoSZoz4lG",
        "colab_type": "code",
        "colab": {
          "base_uri": "https://localhost:8080/",
          "height": 35
        },
        "outputId": "c5889bae-f541-4363-ae16-e0bc38031e44"
      },
      "source": [
        "from google.colab import drive\n",
        "drive.mount('/content/drive')"
      ],
      "execution_count": null,
      "outputs": [
        {
          "output_type": "stream",
          "text": [
            "Drive already mounted at /content/drive; to attempt to forcibly remount, call drive.mount(\"/content/drive\", force_remount=True).\n"
          ],
          "name": "stdout"
        }
      ]
    },
    {
      "cell_type": "code",
      "metadata": {
        "id": "50I7via70Thu",
        "colab_type": "code",
        "colab": {
          "base_uri": "https://localhost:8080/",
          "height": 35
        },
        "outputId": "0b642ec9-a725-4d8b-e4b3-758fe38237a8"
      },
      "source": [
        "%cd \"/content/drive/My Drive/Quantum-CDL/ProjectFiles/CohortProject_2020-master/CohortProject_2020-master/Project_1_RBM_and_Tomography\"\n"
      ],
      "execution_count": null,
      "outputs": [
        {
          "output_type": "stream",
          "text": [
            "/content/drive/My Drive/Quantum-CDL/ProjectFiles/CohortProject_2020-master/CohortProject_2020-master/Project_1_RBM_and_Tomography\n"
          ],
          "name": "stdout"
        }
      ]
    },
    {
      "cell_type": "code",
      "metadata": {
        "colab_type": "code",
        "id": "8S9CKZDGpSOu",
        "colab": {
          "base_uri": "https://localhost:8080/",
          "height": 35
        },
        "outputId": "d5ca1201-f78a-4836-8b6b-f230a18a5dd3"
      },
      "source": [
        "!pwd\n",
        "import numpy as np\n",
        "import torch\n",
        "from RBM_helper import RBM\n",
        "import csv\n",
        "import sys\n",
        "import importlib\n",
        "import Plotters\n",
        "importlib.reload(Plotters)\n",
        "import Rydberg_energy_calculator\n",
        "\n",
        "datapath = '../datasets/IsingSamplesDW/'\n",
        "sys.path.append(datapath) \n",
        "import dwhelper as dw # Need to rename helper because python has a helper.py in the system path\n"
      ],
      "execution_count": null,
      "outputs": [
        {
          "output_type": "stream",
          "text": [
            "/content/drive/My Drive/Quantum-CDL/ProjectFiles/CohortProject_2020-master/CohortProject_2020-master/Project_1_RBM_and_Tomography\n"
          ],
          "name": "stdout"
        }
      ]
    },
    {
      "cell_type": "markdown",
      "metadata": {
        "id": "TcUSC8c2dcki",
        "colab_type": "text"
      },
      "source": [
        "## Helper RBM Trainer\n"
      ]
    },
    {
      "cell_type": "code",
      "metadata": {
        "id": "2uAaaxLvddQH",
        "colab_type": "code",
        "colab": {}
      },
      "source": [
        "class RBMTrainer():\n",
        "    def __init__(self, n_vis, n_hin, training_data, validation_data):\n",
        "        \"\"\"\n",
        "        RBMTrainer needs params to create an rbm and training data to work with\n",
        "        \"\"\"\n",
        "        self.n_vis = n_vis\n",
        "        self.n_hin = n_hin\n",
        "        self.training_data = training_data\n",
        "        self.validation_data = validation_data\n",
        "        self.meanseries = None\n",
        "        \n",
        "    def reset_state(self):\n",
        "        self.rbm = RBM(self.n_vis, self.n_hin)\n",
        "        self.best_epoch = None\n",
        "        self.best_evaluation = None\n",
        "        self.stopping_criterion_reached = False\n",
        "\n",
        "    def run(self, epochs=1000, lr=1e-2, lr_annealing='', anneal_start=0,\n",
        "            n_train_samples=20000, test_interval=50,\n",
        "            n_test_samples=20000, n_valid_samples=10000, n_final_samples=10000, stopping_patience=2, verbose=False,\n",
        "            do_plot=False):\n",
        "        \"\"\"\n",
        "        params:\n",
        "            epochs - max number of epochs to train for\n",
        "            lr - base learning rate\n",
        "            lr_annealing - either 'lin' for linear annealing or 'geo' for\n",
        "                            geometric annealing\n",
        "            anneal_start - epoch at which to start lr annealing\n",
        "            n_train_samples - number of samples to train with\n",
        "            test_interval - how often (number of epochs) to stop and evaluate energy\n",
        "            n_test_samples - how many samples to use for testings\n",
        "                                more samples --> better statistical significance\n",
        "            stopping_patience - how many times in a row the stopping criterion\n",
        "                                    needs to be reached in order to stop early\n",
        "                                    Set this to -1 to not stop early at all\n",
        "            verbose - Whether to printout training progress indicators\n",
        "            do_plot - Whether to have a live plot of the evaluated energy vs epochs\n",
        "        Note: at the start of each run the state is reset\n",
        "        \"\"\"\n",
        "        self.reset_state()\n",
        "        \n",
        "        n_train_samples = min(len(self.training_data), n_train_samples)\n",
        "        n_valid_samples = min(len(self.validation_data), n_valid_samples)\n",
        "\n",
        "        exact_energy = 0 # -4.1203519096\n",
        "        print(\"calculating exact energy...\")\n",
        "        energies = Rydberg_energy_calculator.energy(self.validation_data[:n_valid_samples], self.rbm.wavefunction)\n",
        "        exact_energy = energies.item()\n",
        "\n",
        "        if verbose:\n",
        "            print(\"Exact energy: \",exact_energy)\n",
        "\n",
        "        # Stopping criterion\n",
        "        # Difference between exact energy and simulated energy must be below this thresh\n",
        "        diff_thresh = 1e-4\n",
        "\n",
        "        if do_plot:\n",
        "            plot_title = f\"{self.n_hin} hidden neurons; training with {n_train_samples} samples; testing with {n_test_samples} samples\"\n",
        "            plotter = Plotters.XYPlotter(href=diff_thresh,\n",
        "                                        title=plot_title,\n",
        "                                        x_label=\"Epoch\",\n",
        "                                        y_label=\"Energy difference\")\n",
        "            %matplotlib inline\n",
        "\n",
        "        patience_cnt = 0 # counter for stopping criterion\n",
        "        for e in range(1, epochs+1):\n",
        "            # do one epoch of training\n",
        "            current_lr = lr\n",
        "            if lr_annealing == 'lin' and e > anneal_start:\n",
        "                current_lr *= (1 - (e - anneal_start) / (epochs - anneal_start + 1))\n",
        "            elif lr_annealing == 'geo' and e > anneal_start:\n",
        "                ratio = (1e-4 / lr) ** (1/(epochs-anneal_start))\n",
        "                current_lr *= ratio ** (e - anneal_start)\n",
        "            elif len(lr_annealing) and e > anneal_start:\n",
        "                print(\"Warning: lr_annealing must be one of '', 'lin', or 'geo'\")\n",
        "            self.rbm.train(self.training_data[:n_train_samples], lr=current_lr)   \n",
        "        \n",
        "            # now generate samples and calculate the energy\n",
        "            if e % test_interval == 0:\n",
        "                if verbose:\n",
        "                    print(\"\\nEpoch: \", e)\n",
        "                    print(\"lr: \", current_lr)\n",
        "                    print(\"Sampling...\")\n",
        "\n",
        "                init_state = torch.zeros(n_test_samples, self.n_vis)\n",
        "                RBM_samples = self.rbm.draw_samples(n_test_samples, init_state)\n",
        "\n",
        "                if verbose:\n",
        "                    print(\"Done sampling. Calculating energy...\") \n",
        "        \n",
        "                energies = Rydberg_energy_calculator.energy(RBM_samples, self.rbm.wavefunction) \n",
        "                if verbose:\n",
        "                    print(\"Energy from RBM samples: \", energies.item())\n",
        "\n",
        "                C = abs(energies.item() - exact_energy) # our \"loss\" function\n",
        "\n",
        "                if do_plot:\n",
        "                    plotter.update(e, C)\n",
        "\n",
        "                # update metrics\n",
        "                if self.best_evaluation is None or C < self.best_evaluation:\n",
        "                    self.best_evaluation = C\n",
        "                    self.best_epoch = e\n",
        "\n",
        "                # stopping criterion\n",
        "                if stopping_patience > 0 and C < diff_thresh:\n",
        "                    patience_cnt += 1\n",
        "                    if patience_cnt >= stopping_patience:\n",
        "                        print(f'Algorithm stopped after {e} epochs with energy estimation {energies.item()}')\n",
        "                        self.stopping_criterion_reached = True\n",
        "\n",
        "                        break\n",
        "                else:\n",
        "                    patience_cnt = 0 # reset patience if we didn't hit the criterion\n",
        "\n",
        "        # Calculate the mean of the ising variables from a final set\n",
        "        # Since it is set by the project goal, we fix it to 10000\n",
        "\n",
        "        if verbose:\n",
        "            print(\"Calculating mean of %d samples\" % n_final_samples)\n",
        "        init_state = torch.zeros(n_final_samples, self.n_vis)\n",
        "        RBM_samples = self.rbm.draw_samples(n_final_samples, init_state)\n",
        "        f1 = RBM_samples.mean(axis=0)\n",
        "        self.meanseries = f1.tolist()\n",
        "\n",
        "\n",
        "        if verbose:\n",
        "            print(f'Training finalised. Best epoch: {self.best_epoch}; Best evaluation: {self.best_evaluation}')"
      ],
      "execution_count": null,
      "outputs": []
    },
    {
      "cell_type": "markdown",
      "metadata": {
        "colab_type": "text",
        "id": "HLMj7XpcveGf"
      },
      "source": [
        "## Load the Training and Validation data from the DWave npz file\n"
      ]
    },
    {
      "cell_type": "code",
      "metadata": {
        "colab_type": "code",
        "id": "21PIUaMBqFcF",
        "colab": {}
      },
      "source": [
        "training_data, validation_data = dw.load_dataset(datapath + \"dataset_x1a46w3557od23s750k9.npz\")"
      ],
      "execution_count": null,
      "outputs": []
    },
    {
      "cell_type": "code",
      "metadata": {
        "colab_type": "code",
        "id": "HiiN97gJshmj",
        "colab": {
          "base_uri": "https://localhost:8080/",
          "height": 54
        },
        "outputId": "d1732074-0396-43ba-d34b-47512d1bd149"
      },
      "source": [
        "train = torch.from_numpy(training_data)\n",
        "val = torch.from_numpy(validation_data)\n",
        "print (train.shape)\n",
        "print (val.shape)\n"
      ],
      "execution_count": null,
      "outputs": [
        {
          "output_type": "stream",
          "text": [
            "torch.Size([40000, 2041])\n",
            "torch.Size([10000, 2041])\n"
          ],
          "name": "stdout"
        }
      ]
    },
    {
      "cell_type": "markdown",
      "metadata": {
        "colab_type": "text",
        "id": "vyCEiAigvvWb"
      },
      "source": [
        "## Load the correlated features csv data"
      ]
    },
    {
      "cell_type": "code",
      "metadata": {
        "colab_type": "code",
        "id": "974n0abts486",
        "colab": {
          "base_uri": "https://localhost:8080/",
          "height": 35
        },
        "outputId": "8e224ecf-f62d-42c2-d97e-5934964d8554"
      },
      "source": [
        "corr_feat = []\n",
        "with open(datapath+'correlated_features.csv', newline='') as csvfile:\n",
        "  reader = csv.reader(csvfile, delimiter=',')\n",
        "  for row in reader:\n",
        "    corr_feat.append(row)\n",
        "\n",
        "print (len(corr_feat))\n",
        "\n",
        "#for r in cf:\n",
        "#  print (r[0],r[1],r[2])\n",
        "\n"
      ],
      "execution_count": null,
      "outputs": [
        {
          "output_type": "stream",
          "text": [
            "5975\n"
          ],
          "name": "stdout"
        }
      ]
    },
    {
      "cell_type": "code",
      "metadata": {
        "id": "unmowSmlEEAl",
        "colab_type": "code",
        "colab": {}
      },
      "source": [
        ""
      ],
      "execution_count": null,
      "outputs": []
    },
    {
      "cell_type": "markdown",
      "metadata": {
        "id": "MJwP6Pg8EG9_",
        "colab_type": "text"
      },
      "source": [
        "\n",
        "    "
      ]
    },
    {
      "cell_type": "code",
      "metadata": {
        "id": "OyJkPGyp3sPL",
        "colab_type": "code",
        "colab": {}
      },
      "source": [
        "trainer = RBMTrainer(train.shape[1], 2, train, val)\n"
      ],
      "execution_count": null,
      "outputs": []
    },
    {
      "cell_type": "code",
      "metadata": {
        "id": "1ehUBXIx9Zzu",
        "colab_type": "code",
        "colab": {
          "base_uri": "https://localhost:8080/",
          "height": 313
        },
        "outputId": "43782f79-962f-40cb-da67-54af0e7b469a"
      },
      "source": [
        "epochs = 500            # 500\n",
        "lr=5e-3                # 5e-3 \n",
        "anneal_start=50        #\n",
        "n_train_samples=10000    # 10000 \n",
        "test_interval=100        # 100\n",
        "n_test_samples=1000      # 1000\n",
        "n_valid_samples=1000     # 10000\n",
        "n_final_samples=10000    # 10000\n",
        "\n",
        "\n",
        "trainer.run(epochs=epochs, lr=lr, lr_annealing='geo', anneal_start=anneal_start,\n",
        "            n_train_samples=n_train_samples, test_interval=test_interval, n_test_samples=n_test_samples, n_valid_samples=n_valid_samples,n_final_samples=n_final_samples,\n",
        "            stopping_patience=2, verbose=True, do_plot=True)\n"
      ],
      "execution_count": null,
      "outputs": [
        {
          "output_type": "display_data",
          "data": {
            "image/png": "[encoded data removed]",
            "text/plain": [
              "<Figure size 432x288 with 1 Axes>"
            ]
          },
          "metadata": {
            "tags": [],
            "needs_background": "light"
          }
        },
        {
          "output_type": "stream",
          "text": [
            "Calculating mean of 10000 samples\n"
          ],
          "name": "stdout"
        }
      ]
    },
    {
      "cell_type": "code",
      "metadata": {
        "id": "zKCqhcxc7EL6",
        "colab_type": "code",
        "colab": {}
      },
      "source": [
        "\n",
        "plot_title = f\"Mean of {len(validation_data[0])} Ising Variables in {n_final_samples} samples\"\n",
        "plotter = Plotters.XYPlotter(href=None,\n",
        "                             title=plot_title,\n",
        "                             x_label=\"Var\",\n",
        "                             y_label=\"Mean\")\n",
        "%matplotlib inline\n",
        "\n",
        "\n"
      ],
      "execution_count": null,
      "outputs": []
    },
    {
      "cell_type": "code",
      "metadata": {
        "id": "P9kAG_bmBRv0",
        "colab_type": "code",
        "colab": {}
      },
      "source": [
        "# Calculate Mean values of the resulting samples\n",
        "freqs = trainer.meanseries\n",
        "for i in range(len(freqs)):\n",
        "  plotter.update(i,freqs[i],redraw_fig=False)\n",
        "plotter._update_plot()\n",
        "print(freqs)\n"
      ],
      "execution_count": null,
      "outputs": []
    },
    {
      "cell_type": "code",
      "metadata": {
        "id": "uH3WX1DYmZ-0",
        "colab_type": "code",
        "colab": {
          "base_uri": "https://localhost:8080/",
          "height": 333
        },
        "outputId": "80aefd60-0a80-4ee2-a92d-e5dad1876445"
      },
      "source": [
        "plot_title = f\"Mean of Validation Data variables\"\n",
        "plotter = Plotters.XYPlotter(href=None,\n",
        "                             title=plot_title,\n",
        "                             x_label=\"Var\",\n",
        "                             y_label=\"Mean\")\n",
        "%matplotlib inline\n",
        "\n",
        "# Calculate Mean values of the validation data\n",
        "f1 = validation_data.mean(axis=0)\n",
        "freqs = f1.tolist()\n",
        "for i in range(len(freqs)):\n",
        "  plotter.update(i,freqs[i],redraw_fig=False)\n",
        "plotter._update_plot()\n",
        "print(freqs)"
      ],
      "execution_count": null,
      "outputs": [
        {
          "output_type": "display_data",
          "data": {
            "image/png": "[encoded data removed]",
            "text/plain": [
              "<Figure size 432x288 with 1 Axes>"
            ]
          },
          "metadata": {
            "tags": [],
            "needs_background": "light"
          }
        },
        {
          "output_type": "stream",
          "text": [
            "[0.51, 0.5114, 0.4887, 0.5111, 0.4883, 0.4887, 0.4882, 0.5113, 0.4865, 0.5112, 0.511, 0.5115, 0.4884, 0.5113, 0.4882, 0.4887, 0.4894, 0.5103, 0.51, 0.5115, 0.4884, 0.5114, 0.4884, 0.4886, 0.5113, 0.5113, 0.4885, 0.4885, 0.5115, 0.4886, 0.4885, 0.4886, 0.5107, 0.4893, 0.5114, 0.5114, 0.5115, 0.5114, 0.5115, 0.5114, 0.4888, 0.5111, 0.4885, 0.4885, 0.5114, 0.5114, 0.4889, 0.5114, 0.5114, 0.512, 0.5115, 0.5114, 0.5112, 0.5114, 0.511, 0.4889, 0.4887, 0.5113, 0.4887, 0.5114, 0.5112, 0.4886, 0.5113, 0.4893, 0.4888, 0.5114, 0.4887, 0.4886, 0.4888, 0.4886, 0.4887, 0.5109, 0.489, 0.5112, 0.5113, 0.4882, 0.5111, 0.4885, 0.4892, 0.5119, 0.4887, 0.4887, 0.5113, 0.4882, 0.4889, 0.4886, 0.4889, 0.5135, 0.5111, 0.4888, 0.4889, 0.4867, 0.5111, 0.4867, 0.4869, 0.4889, 0.5109, 0.4886, 0.5111, 0.5132, 0.488, 0.4869, 0.5134, 0.4882, 0.4882, 0.512, 0.49, 0.4868, 0.5122, 0.4869, 0.4869, 0.4869, 0.4866, 0.5111, 0.5096, 0.5131, 0.487, 0.5131, 0.487, 0.5117, 0.4868, 0.488, 0.4903, 0.5131, 0.487, 0.5131, 0.51, 0.5114, 0.5115, 0.5111, 0.4895, 0.5115, 0.5106, 0.5111, 0.5135, 0.5112, 0.489, 0.5115, 0.5105, 0.5115, 0.5126, 0.5111, 0.4895, 0.4897, 0.51, 0.5115, 0.4895, 0.5115, 0.5113, 0.5113, 0.5113, 0.5113, 0.5115, 0.5115, 0.4887, 0.4885, 0.4887, 0.511, 0.5107, 0.5107, 0.4886, 0.4888, 0.5113, 0.5115, 0.4887, 0.4889, 0.4888, 0.5111, 0.4886, 0.5111, 0.5113, 0.5114, 0.5113, 0.4889, 0.4889, 0.4886, 0.4887, 0.5112, 0.4887, 0.5114, 0.5114, 0.4889, 0.511, 0.5111, 0.4887, 0.4887, 0.5113, 0.511, 0.5113, 0.4887, 0.4887, 0.4893, 0.5113, 0.4886, 0.4888, 0.5113, 0.5113, 0.5113, 0.5113, 0.4888, 0.5107, 0.4888, 0.5111, 0.4887, 0.4888, 0.5118, 0.5108, 0.4891, 0.4887, 0.4887, 0.4888, 0.5113, 0.5112, 0.489, 0.4889, 0.4865, 0.4889, 0.5111, 0.4887, 0.4888, 0.4888, 0.4888, 0.4868, 0.5111, 0.4889, 0.5113, 0.5113, 0.5114, 0.4888, 0.5111, 0.4866, 0.4889, 0.4882, 0.4887, 0.5113, 0.5114, 0.4888, 0.5111, 0.5129, 0.5131, 0.5134, 0.4887, 0.5113, 0.5114, 0.5111, 0.5111, 0.513, 0.5111, 0.4869, 0.4993, 0.4887, 0.5115, 0.4889, 0.5111, 0.51, 0.4884, 0.5115, 0.4877, 0.4903, 0.4886, 0.4888, 0.5118, 0.5134, 0.5112, 0.4891, 0.5115, 0.5097, 0.4886, 0.4888, 0.5104, 0.5104, 0.4941, 0.4895, 0.5113, 0.4899, 0.4886, 0.5113, 0.5104, 0.4887, 0.514, 0.4885, 0.5114, 0.5101, 0.4885, 0.4888, 0.5105, 0.4897, 0.4893, 0.4886, 0.5112, 0.5103, 0.5114, 0.4888, 0.4889, 0.5113, 0.5111, 0.5114, 0.5111, 0.5107, 0.4886, 0.5111, 0.4889, 0.5112, 0.5114, 0.51, 0.4888, 0.4893, 0.4886, 0.4888, 0.4889, 0.5115, 0.4889, 0.5114, 0.5113, 0.489, 0.5111, 0.4889, 0.4889, 0.5045, 0.4893, 0.5114, 0.5111, 0.5108, 0.5109, 0.4889, 0.5109, 0.4887, 0.5112, 0.5113, 0.5112, 0.5111, 0.4891, 0.4888, 0.489, 0.5108, 0.5111, 0.4887, 0.4887, 0.4889, 0.511, 0.4888, 0.489, 0.4889, 0.5111, 0.4889, 0.5111, 0.5111, 0.5111, 0.4888, 0.511, 0.5132, 0.4889, 0.5111, 0.5114, 0.5124, 0.5111, 0.5112, 0.4888, 0.4866, 0.511, 0.5002, 0.4888, 0.4874, 0.4876, 0.489, 0.5111, 0.4871, 0.4869, 0.5134, 0.4888, 0.4871, 0.4868, 0.489, 0.5111, 0.513, 0.5113, 0.4869, 0.5007, 0.4869, 0.4868, 0.489, 0.5111, 0.5095, 0.4885, 0.4885, 0.4875, 0.4891, 0.4883, 0.5111, 0.4883, 0.4865, 0.4888, 0.4902, 0.4885, 0.4891, 0.5117, 0.5111, 0.4883, 0.5104, 0.4939, 0.4895, 0.4887, 0.4891, 0.4918, 0.4889, 0.489, 0.5111, 0.4888, 0.4887, 0.4886, 0.4889, 0.4885, 0.4889, 0.5111, 0.5103, 0.489, 0.4885, 0.5112, 0.4888, 0.5115, 0.4889, 0.4889, 0.5116, 0.4888, 0.4886, 0.4889, 0.4888, 0.5114, 0.4888, 0.5111, 0.489, 0.5114, 0.51, 0.4888, 0.4889, 0.4885, 0.4888, 0.4889, 0.5113, 0.5109, 0.5074, 0.5114, 0.4891, 0.4885, 0.4888, 0.5113, 0.5112, 0.4888, 0.4887, 0.5112, 0.5112, 0.5112, 0.4888, 0.4887, 0.4903, 0.5112, 0.489, 0.5112, 0.5112, 0.5112, 0.4888, 0.4885, 0.4892, 0.4889, 0.5111, 0.5113, 0.4887, 0.4889, 0.4888, 0.5114, 0.5111, 0.4886, 0.5111, 0.5112, 0.5113, 0.5111, 0.5112, 0.4888, 0.4863, 0.4888, 0.5111, 0.4886, 0.4887, 0.5111, 0.4863, 0.4888, 0.513, 0.4891, 0.4921, 0.4889, 0.5131, 0.4888, 0.4866, 0.4888, 0.4869, 0.5131, 0.4867, 0.5111, 0.5131, 0.4888, 0.5131, 0.5112, 0.513, 0.4887, 0.5131, 0.5007, 0.5131, 0.4888, 0.5131, 0.4888, 0.4968, 0.4886, 0.5115, 0.5065, 0.4984, 0.5112, 0.5089, 0.5116, 0.5121, 0.5112, 0.5097, 0.4885, 0.5114, 0.5089, 0.5115, 0.5162, 0.4928, 0.5105, 0.4888, 0.5017, 0.4886, 0.4911, 0.4885, 0.5112, 0.5109, 0.4887, 0.4885, 0.5017, 0.489, 0.4889, 0.5115, 0.5103, 0.5112, 0.4885, 0.4888, 0.4888, 0.4886, 0.4885, 0.4883, 0.5109, 0.5114, 0.4889, 0.4888, 0.4888, 0.4886, 0.4885, 0.511, 0.5112, 0.5097, 0.5111, 0.4888, 0.4888, 0.5114, 0.4881, 0.4888, 0.5111, 0.4892, 0.4884, 0.4888, 0.5112, 0.4886, 0.5119, 0.5112, 0.5112, 0.4887, 0.5112, 0.4888, 0.4887, 0.4893, 0.4881, 0.5098, 0.5112, 0.5111, 0.4888, 0.4888, 0.5114, 0.5092, 0.5117, 0.4893, 0.4889, 0.489, 0.4885, 0.5112, 0.4886, 0.5092, 0.5115, 0.4888, 0.4886, 0.4952, 0.5111, 0.5112, 0.4886, 0.509, 0.4885, 0.5137, 0.4891, 0.5112, 0.4886, 0.4888, 0.5113, 0.4916, 0.5115, 0.513, 0.4888, 0.4922, 0.511, 0.5113, 0.5043, 0.4895, 0.4902, 0.5131, 0.513, 0.5128, 0.5112, 0.5113, 0.4877, 0.4894, 0.4872, 0.4872, 0.5115, 0.4868, 0.4993, 0.5114, 0.4877, 0.4993, 0.5129, 0.5033, 0.5114, 0.4885, 0.4986, 0.4885, 0.5115, 0.4885, 0.5004, 0.5116, 0.4883, 0.4902, 0.4885, 0.4885, 0.4885, 0.4885, 0.4885, 0.4889, 0.5072, 0.5101, 0.5114, 0.5114, 0.5115, 0.5115, 0.4885, 0.5107, 0.4957, 0.4887, 0.5115, 0.5113, 0.4885, 0.4888, 0.4885, 0.5104, 0.5112, 0.4886, 0.4889, 0.5111, 0.4886, 0.5112, 0.5115, 0.4886, 0.5108, 0.4886, 0.4888, 0.4889, 0.5111, 0.4888, 0.5114, 0.5111, 0.4889, 0.4885, 0.511, 0.489, 0.4889, 0.5112, 0.5111, 0.4888, 0.4889, 0.5111, 0.5112, 0.4888, 0.5111, 0.5111, 0.4889, 0.4888, 0.4888, 0.4888, 0.4888, 0.4888, 0.4888, 0.4887, 0.4888, 0.5098, 0.4888, 0.4889, 0.4888, 0.4888, 0.4888, 0.4894, 0.5112, 0.5108, 0.4918, 0.4891, 0.5115, 0.5111, 0.4889, 0.4898, 0.5104, 0.4891, 0.5029, 0.5049, 0.5114, 0.5133, 0.5109, 0.5102, 0.5054, 0.4864, 0.4892, 0.5112, 0.4885, 0.5131, 0.4891, 0.4886, 0.4873, 0.513, 0.4888, 0.5077, 0.511, 0.5131, 0.4891, 0.4886, 0.5127, 0.5131, 0.4891, 0.5134, 0.5108, 0.5127, 0.5108, 0.5112, 0.4873, 0.4882, 0.4883, 0.4874, 0.5008, 0.512, 0.5009, 0.5112, 0.5126, 0.5032, 0.5114, 0.5091, 0.5017, 0.4888, 0.4898, 0.4891, 0.5067, 0.5107, 0.4888, 0.5062, 0.4888, 0.5113, 0.4898, 0.489, 0.5067, 0.4889, 0.4971, 0.5073, 0.4886, 0.4888, 0.5097, 0.489, 0.5088, 0.4894, 0.4955, 0.511, 0.489, 0.5112, 0.5102, 0.4891, 0.5107, 0.5102, 0.4887, 0.4871, 0.5109, 0.489, 0.4889, 0.5044, 0.5111, 0.5111, 0.5108, 0.5111, 0.5111, 0.4889, 0.5111, 0.5115, 0.4889, 0.5111, 0.4887, 0.4885, 0.5111, 0.5112, 0.4889, 0.4885, 0.4889, 0.5111, 0.511, 0.511, 0.5112, 0.4887, 0.489, 0.5112, 0.5111, 0.5112, 0.5112, 0.5112, 0.5112, 0.4888, 0.5094, 0.4888, 0.4888, 0.4892, 0.4888, 0.5111, 0.4888, 0.4888, 0.4905, 0.4888, 0.5112, 0.489, 0.5082, 0.511, 0.4886, 0.5109, 0.5094, 0.5114, 0.5113, 0.5109, 0.5029, 0.4951, 0.5114, 0.489, 0.5103, 0.4887, 0.4887, 0.5136, 0.511, 0.4888, 0.4889, 0.5126, 0.4901, 0.5113, 0.5111, 0.5125, 0.5112, 0.4912, 0.4897, 0.5126, 0.5091, 0.4887, 0.5111, 0.5123, 0.4915, 0.5124, 0.5098, 0.5126, 0.4909, 0.4891, 0.4896, 0.4886, 0.4884, 0.5089, 0.5048, 0.4874, 0.509, 0.4891, 0.4897, 0.5033, 0.5133, 0.4912, 0.4961, 0.4933, 0.5101, 0.5104, 0.4961, 0.5062, 0.5107, 0.4934, 0.5086, 0.5068, 0.5101, 0.4896, 0.4934, 0.489, 0.5051, 0.5032, 0.5113, 0.4933, 0.4899, 0.5108, 0.5094, 0.5106, 0.4955, 0.5111, 0.5082, 0.5067, 0.5101, 0.4893, 0.5105, 0.5053, 0.4888, 0.5129, 0.5109, 0.4889, 0.5101, 0.5107, 0.5113, 0.4889, 0.4892, 0.5111, 0.4889, 0.511, 0.4888, 0.5107, 0.4888, 0.5112, 0.5112, 0.5114, 0.5111, 0.4889, 0.4888, 0.4889, 0.4888, 0.511, 0.511, 0.489, 0.5112, 0.5111, 0.5112, 0.5111, 0.4888, 0.5112, 0.4888, 0.5112, 0.4888, 0.4888, 0.4888, 0.4889, 0.5112, 0.5108, 0.5111, 0.5111, 0.5111, 0.4888, 0.5083, 0.5109, 0.5112, 0.5111, 0.5085, 0.5075, 0.5055, 0.5112, 0.5083, 0.489, 0.5109, 0.5108, 0.5028, 0.5048, 0.4888, 0.5111, 0.5085, 0.4889, 0.4892, 0.512, 0.5111, 0.5112, 0.5024, 0.5097, 0.5086, 0.4895, 0.4891, 0.5089, 0.4891, 0.4909, 0.5116, 0.5109, 0.5115, 0.4907, 0.4903, 0.4877, 0.4914, 0.5042, 0.4909, 0.5108, 0.4885, 0.5093, 0.4903, 0.5112, 0.4894, 0.4909, 0.5048, 0.5103, 0.5115, 0.4906, 0.4893, 0.4962, 0.5042, 0.4911, 0.5045, 0.5025, 0.5086, 0.51, 0.5017, 0.5105, 0.4915, 0.5064, 0.5086, 0.4961, 0.5087, 0.49, 0.4983, 0.5104, 0.4948, 0.5026, 0.5111, 0.5047, 0.4911, 0.4909, 0.5016, 0.4893, 0.4954, 0.5105, 0.491, 0.5079, 0.5088, 0.5093, 0.5, 0.4949, 0.5125, 0.4871, 0.5043, 0.4924, 0.5088, 0.4904, 0.4878, 0.4889, 0.5106, 0.5109, 0.4888, 0.4924, 0.5108, 0.5042, 0.4881, 0.4886, 0.5121, 0.5115, 0.4881, 0.4996, 0.5108, 0.5001, 0.5119, 0.4891, 0.5156, 0.5083, 0.5112, 0.4945, 0.4891, 0.5025, 0.5115, 0.4882, 0.4907, 0.4888, 0.5114, 0.4944, 0.489, 0.503, 0.4887, 0.4892, 0.4961, 0.5111, 0.4888, 0.4945, 0.489, 0.5029, 0.4887, 0.511, 0.4916, 0.5077, 0.4989, 0.4954, 0.5011, 0.5012, 0.489, 0.5083, 0.4969, 0.5045, 0.5105, 0.5023, 0.4972, 0.5012, 0.487, 0.5122, 0.4889, 0.4887, 0.5041, 0.4968, 0.5032, 0.5001, 0.4859, 0.4911, 0.4907, 0.5094, 0.489, 0.5091, 0.4914, 0.5092, 0.5091, 0.5102, 0.5091, 0.4958, 0.4909, 0.5091, 0.5086, 0.4908, 0.491, 0.4946, 0.5123, 0.4908, 0.4897, 0.4909, 0.5086, 0.4908, 0.491, 0.5033, 0.4955, 0.5089, 0.5083, 0.5108, 0.5055, 0.5093, 0.5059, 0.4878, 0.5086, 0.4933, 0.4914, 0.4892, 0.5054, 0.5093, 0.4941, 0.4895, 0.5051, 0.5028, 0.5111, 0.4894, 0.4914, 0.4924, 0.4945, 0.4892, 0.4924, 0.4892, 0.4906, 0.5107, 0.4893, 0.5058, 0.5046, 0.5105, 0.5123, 0.5117, 0.509, 0.4893, 0.4894, 0.4878, 0.4954, 0.4894, 0.5106, 0.5105, 0.4894, 0.5107, 0.489, 0.4882, 0.4968, 0.4886, 0.4879, 0.4879, 0.4881, 0.489, 0.5108, 0.4875, 0.5111, 0.4897, 0.5119, 0.4918, 0.4888, 0.5108, 0.489, 0.489, 0.489, 0.488, 0.4964, 0.5112, 0.5113, 0.5111, 0.5111, 0.511, 0.4887, 0.5114, 0.5051, 0.5112, 0.4892, 0.5111, 0.5113, 0.4897, 0.5112, 0.4923, 0.4916, 0.5074, 0.5019, 0.4891, 0.511, 0.51, 0.5112, 0.4998, 0.5043, 0.5042, 0.4894, 0.5108, 0.4893, 0.5103, 0.5112, 0.4891, 0.5112, 0.5113, 0.5046, 0.5108, 0.4898, 0.4895, 0.5109, 0.5106, 0.5093, 0.4906, 0.4996, 0.5097, 0.5103, 0.5106, 0.5108, 0.4893, 0.4918, 0.5045, 0.509, 0.4912, 0.5087, 0.5104, 0.4889, 0.4986, 0.4878, 0.4918, 0.5104, 0.4921, 0.4917, 0.4896, 0.4887, 0.497, 0.4939, 0.4911, 0.5088, 0.5101, 0.4914, 0.4885, 0.5106, 0.5101, 0.4932, 0.4938, 0.5085, 0.4898, 0.5086, 0.5115, 0.5106, 0.4894, 0.5051, 0.5073, 0.5111, 0.4894, 0.4916, 0.5116, 0.5106, 0.4892, 0.4916, 0.5104, 0.4897, 0.4894, 0.5093, 0.5117, 0.4894, 0.4895, 0.4877, 0.4884, 0.4916, 0.5104, 0.496, 0.4883, 0.4894, 0.4873, 0.5107, 0.5106, 0.5105, 0.5103, 0.496, 0.4882, 0.5106, 0.5114, 0.5122, 0.5124, 0.488, 0.4936, 0.4949, 0.5108, 0.5112, 0.4944, 0.4884, 0.5081, 0.4888, 0.4934, 0.4943, 0.5049, 0.5112, 0.5071, 0.51, 0.4888, 0.511, 0.5068, 0.5044, 0.4954, 0.5112, 0.4886, 0.5053, 0.4886, 0.4954, 0.5047, 0.4964, 0.4957, 0.4887, 0.4952, 0.5035, 0.5043, 0.4983, 0.4953, 0.496, 0.5042, 0.5104, 0.501, 0.5044, 0.4962, 0.489, 0.5039, 0.5045, 0.5026, 0.5101, 0.5042, 0.4879, 0.4886, 0.497, 0.4961, 0.5046, 0.495, 0.5101, 0.4892, 0.4905, 0.5097, 0.4998, 0.5034, 0.5087, 0.5076, 0.4877, 0.4893, 0.4951, 0.4963, 0.4918, 0.5041, 0.5083, 0.5055, 0.4877, 0.5007, 0.5122, 0.4999, 0.4897, 0.4959, 0.4912, 0.5055, 0.4877, 0.4914, 0.4908, 0.5092, 0.492, 0.4919, 0.5092, 0.509, 0.4917, 0.5078, 0.5089, 0.5081, 0.5087, 0.4918, 0.4908, 0.491, 0.4919, 0.5106, 0.5058, 0.509, 0.5111, 0.5106, 0.5122, 0.4974, 0.4914, 0.5108, 0.5082, 0.5104, 0.4898, 0.5108, 0.4878, 0.5003, 0.4914, 0.5106, 0.4883, 0.4884, 0.5087, 0.4894, 0.5111, 0.4997, 0.4918, 0.5114, 0.5105, 0.5106, 0.4942, 0.4893, 0.4888, 0.5002, 0.4918, 0.5112, 0.4873, 0.5127, 0.5119, 0.4893, 0.5112, 0.5111, 0.509, 0.4942, 0.4884, 0.5097, 0.4888, 0.5113, 0.4888, 0.5111, 0.5099, 0.4931, 0.5112, 0.4888, 0.4889, 0.5113, 0.5112, 0.4889, 0.5093, 0.4886, 0.4941, 0.5114, 0.4948, 0.5112, 0.4887, 0.5111, 0.5015, 0.5047, 0.5028, 0.5006, 0.502, 0.5116, 0.4889, 0.5042, 0.5026, 0.5014, 0.4964, 0.5042, 0.4902, 0.4875, 0.4894, 0.4949, 0.4996, 0.5037, 0.4875, 0.492, 0.501, 0.4875, 0.5109, 0.4956, 0.5016, 0.5091, 0.4993, 0.4903, 0.5, 0.5128, 0.4895, 0.4953, 0.4994, 0.4891, 0.4963, 0.4964, 0.5081, 0.4938, 0.5107, 0.495, 0.4999, 0.4977, 0.5126, 0.4994, 0.5096, 0.4971, 0.4895, 0.4949, 0.5001, 0.508, 0.5092, 0.5085, 0.5082, 0.4919, 0.491, 0.5092, 0.5086, 0.4922, 0.509, 0.4967, 0.5087, 0.4918, 0.4911, 0.5092, 0.4914, 0.5092, 0.4933, 0.491, 0.4889, 0.5082, 0.5121, 0.511, 0.4914, 0.511, 0.4918, 0.4906, 0.5102, 0.5082, 0.4887, 0.511, 0.5086, 0.5106, 0.488, 0.5117, 0.5079, 0.4919, 0.4896, 0.5124, 0.5086, 0.4885, 0.5108, 0.5106, 0.5098, 0.4892, 0.5103, 0.488, 0.4895, 0.4886, 0.4871, 0.5128, 0.4884, 0.5112, 0.4893, 0.5119, 0.4895, 0.4942, 0.4888, 0.4896, 0.4886, 0.5113, 0.4892, 0.4874, 0.4895, 0.5001, 0.5111, 0.5113, 0.5123, 0.5115, 0.4945, 0.4875, 0.4997, 0.5099, 0.5111, 0.5116, 0.505, 0.5126, 0.5012, 0.4879, 0.4961, 0.5045, 0.4971, 0.5009, 0.4985, 0.501, 0.5012, 0.5002, 0.5037, 0.4998, 0.5006, 0.4961, 0.4911, 0.4998, 0.4991, 0.4994, 0.5035, 0.5007, 0.4979, 0.5083, 0.4992, 0.4998, 0.5012, 0.4994, 0.5027, 0.4905, 0.4988, 0.5054, 0.5002, 0.503, 0.5016, 0.5, 0.4976, 0.4961, 0.5043, 0.4916, 0.5083, 0.4953, 0.4999, 0.4916, 0.5034, 0.4972, 0.4901, 0.5003, 0.5093, 0.4953, 0.4998, 0.4916, 0.5036, 0.508, 0.5093, 0.4941, 0.4919, 0.5079, 0.4912, 0.5107, 0.5004, 0.5078, 0.4921, 0.5053, 0.496, 0.5079, 0.4912, 0.5107, 0.4986, 0.508, 0.5027, 0.4908, 0.4912, 0.5079, 0.4908, 0.4893, 0.499, 0.4889, 0.4919, 0.4881, 0.4899, 0.5065, 0.4905, 0.5109, 0.4931, 0.4897, 0.488, 0.4883, 0.4921, 0.4965, 0.5108, 0.4894, 0.5069, 0.4885, 0.511, 0.5108, 0.4902, 0.4911, 0.5123, 0.5104, 0.493, 0.4875, 0.4874, 0.4875, 0.488, 0.5081, 0.4877, 0.5108, 0.4931, 0.4942, 0.4888, 0.49, 0.5081, 0.5121, 0.5115, 0.4932, 0.5075, 0.4888, 0.5114, 0.512, 0.492, 0.5121, 0.5122, 0.4891, 0.5102, 0.5113, 0.5051, 0.4964, 0.4943, 0.5119, 0.5054, 0.4943, 0.4975, 0.4982, 0.5018, 0.4989, 0.4938, 0.512, 0.4947, 0.4995, 0.5007, 0.5027, 0.4964, 0.5015, 0.5031, 0.4984, 0.4964, 0.5023, 0.5024, 0.4961, 0.5021, 0.5018, 0.5019, 0.5032, 0.5022, 0.5095, 0.5015, 0.5052, 0.4993, 0.5027, 0.5021, 0.5038, 0.4978, 0.5039, 0.4998, 0.5031, 0.5081, 0.4974, 0.5042, 0.5038, 0.5014, 0.4967, 0.5098, 0.4967, 0.5109, 0.5026, 0.5033, 0.4962, 0.4993, 0.508, 0.5095, 0.5052, 0.4919, 0.5043, 0.4909, 0.5103, 0.5081, 0.5078, 0.5078, 0.4958, 0.496, 0.4915, 0.4896, 0.4919, 0.508, 0.5049, 0.4908, 0.5081, 0.4923, 0.4916, 0.5112, 0.4919, 0.491, 0.4916, 0.5119, 0.5128, 0.5121, 0.4916, 0.5116, 0.4917, 0.511, 0.4882, 0.5117, 0.5079, 0.4881, 0.4919, 0.4881, 0.5084, 0.4884, 0.4894, 0.4888, 0.5098, 0.4881, 0.4935, 0.4881, 0.491, 0.5127, 0.5124, 0.5125, 0.487, 0.4878, 0.5069, 0.4879, 0.491, 0.5059, 0.4886, 0.497, 0.5126, 0.4875, 0.4959, 0.4879, 0.4918, 0.4897, 0.5112, 0.4886, 0.5121, 0.4882, 0.5027, 0.5122, 0.4921, 0.5095, 0.5103, 0.4856, 0.4923, 0.5114, 0.5014, 0.4861, 0.5033, 0.4955, 0.502, 0.502, 0.4934, 0.5103, 0.4996, 0.4924, 0.5039, 0.5003, 0.501, 0.4989, 0.4964, 0.4906, 0.5006, 0.5068, 0.4989, 0.5091, 0.4977, 0.4961, 0.4975, 0.5095, 0.5008, 0.4947, 0.5043, 0.491, 0.501, 0.4948, 0.4999, 0.5091, 0.503, 0.5048, 0.5044, 0.4959, 0.5044, 0.5036, 0.4919, 0.4903, 0.4967, 0.4954, 0.4956, 0.4965, 0.4902, 0.5026, 0.4911, 0.5097, 0.4967, 0.5047, 0.5044, 0.508, 0.5094, 0.4966, 0.5079, 0.4897, 0.5026, 0.492, 0.492, 0.4922, 0.5072, 0.4958, 0.504, 0.5103, 0.498, 0.492, 0.492, 0.508, 0.4953, 0.4909, 0.5073, 0.4895, 0.4932, 0.5082, 0.508, 0.5091, 0.4911, 0.4881, 0.4875, 0.5117, 0.5124, 0.4915, 0.5087, 0.5086, 0.5118, 0.5117, 0.5079, 0.5115, 0.5124, 0.4914, 0.4913, 0.4884, 0.5108, 0.4887, 0.4903, 0.4885, 0.4876, 0.5089, 0.4905, 0.4872, 0.5125, 0.4875, 0.513, 0.4884, 0.4876, 0.5113, 0.5094, 0.5065, 0.5116, 0.5028, 0.5125, 0.5115, 0.5122, 0.4883, 0.4905, 0.5101, 0.4892, 0.4885, 0.5121, 0.5143, 0.5122, 0.5124, 0.5094, 0.5095, 0.4899, 0.5133, 0.5092, 0.4853, 0.4853, 0.5123, 0.4913, 0.5113, 0.4979, 0.502, 0.509, 0.5132, 0.4942, 0.4887, 0.5087, 0.5004, 0.4991, 0.5012, 0.4949, 0.4906, 0.5001, 0.4888, 0.509, 0.4911, 0.4973, 0.5043, 0.4975, 0.5083, 0.5063, 0.5109, 0.5099, 0.4902, 0.4989, 0.5058, 0.5083, 0.4922, 0.5064, 0.4895, 0.5098, 0.5048, 0.4958, 0.4962, 0.5081, 0.4927, 0.5097, 0.51, 0.4902, 0.4998, 0.4902, 0.5005, 0.5088, 0.5073, 0.4911, 0.4914, 0.5099]\n"
          ],
          "name": "stdout"
        }
      ]
    },
    {
      "cell_type": "markdown",
      "metadata": {
        "id": "F77ERZnXERvl",
        "colab_type": "text"
      },
      "source": [
        "The Rydberg Hamiltonian is:\n",
        "    \n",
        "$H = -\\sum_{<i,j>} Vij (\\sigma_i^z \\sigma_j^z + \\sigma_i^z + \\sigma_j^z\n",
        "    - \\Omega \\sum_i \\sigma_i^z - h \\sum_i \\sigma_i^x)$\n",
        "\n",
        "where $\\sigma$'s are Pauli matrices. Now, this function calculates E = <$H$>.\n"
      ]
    },
    {
      "cell_type": "markdown",
      "metadata": {
        "colab_type": "text",
        "id": "0LssdN6rv5DU"
      },
      "source": [
        "## Add Code below to process the data"
      ]
    },
    {
      "cell_type": "code",
      "metadata": {
        "id": "f54KhGC0BQWH",
        "colab_type": "code",
        "colab": {}
      },
      "source": [
        ""
      ],
      "execution_count": null,
      "outputs": []
    },
    {
      "cell_type": "code",
      "metadata": {
        "colab_type": "code",
        "id": "plf3TUSquKOg",
        "colab": {}
      },
      "source": [
        "#BASIC Template code - TO BE MODIFIED\n",
        "from dwave.system import DWaveSampler, EmbeddingComposite\n",
        "\n",
        "#Converts the QUBO into a BinaryQuadraticModel and then calls sample().\n",
        "sampler = EmbeddingComposite(DWaveSampler())\n",
        "\n",
        "#Example encoding for x0,x1,x2,x4: needs to be generalized based on dataset\n",
        "Q = {('x0', 'x0'):1, ('x1', 'x1'):1, ('x2', 'x2'):1, ('x3', 'x3'):1, ('x4', 'x4'):1,}\n",
        "\n",
        "results = sampler.sample_qubo(Q, num_reads=10000)\n",
        "\n",
        "# print the results\n",
        "for smpl, energy in results.data(['sample', 'energy']):\n",
        "    print(smpl, energy)"
      ],
      "execution_count": null,
      "outputs": []
    }
  ]
}