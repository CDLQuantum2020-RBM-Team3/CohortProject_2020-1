{
 "cells": [
  {
   "cell_type": "markdown",
   "metadata": {
    "colab_type": "text",
    "id": "nqrr7ZlrpBgt"
   },
   "source": [
    "# Cohort Project - DWave Data Set\n"
   ]
  },
  {
   "cell_type": "code",
   "execution_count": null,
   "metadata": {
    "colab": {},
    "colab_type": "code",
    "id": "8S9CKZDGpSOu"
   },
   "outputs": [],
   "source": [
    "import numpy as np\n",
    "import helper as dw\n",
    "import csv "
   ]
  },
  {
   "cell_type": "markdown",
   "metadata": {
    "colab_type": "text",
    "id": "HLMj7XpcveGf"
   },
   "source": [
    "## Load the Training and Validation data from the DWave npz file\n"
   ]
  },
  {
   "cell_type": "code",
   "execution_count": null,
   "metadata": {
    "colab": {},
    "colab_type": "code",
    "id": "21PIUaMBqFcF"
   },
   "outputs": [],
   "source": [
    "train, val = dw.load_dataset(\"dataset_x1a46w3557od23s750k9.npz\")"
   ]
  },
  {
   "cell_type": "code",
   "execution_count": null,
   "metadata": {
    "colab": {
     "base_uri": "https://localhost:8080/",
     "height": 54
    },
    "colab_type": "code",
    "id": "HiiN97gJshmj",
    "outputId": "67f161fa-06dc-481d-983f-c6b83f4f85c8"
   },
   "outputs": [],
   "source": [
    "print (train.shape)\n",
    "print (val.shape)"
   ]
  },
  {
   "cell_type": "markdown",
   "metadata": {
    "colab_type": "text",
    "id": "vyCEiAigvvWb"
   },
   "source": [
    "## Load the correlated features csv data"
   ]
  },
  {
   "cell_type": "code",
   "execution_count": null,
   "metadata": {
    "colab": {
     "base_uri": "https://localhost:8080/",
     "height": 36
    },
    "colab_type": "code",
    "id": "974n0abts486",
    "outputId": "0f51f31c-6195-43af-ca8a-936899326bd2"
   },
   "outputs": [],
   "source": [
    "corr_feat = []\n",
    "with open('correlated_features.csv', newline='') as csvfile:\n",
    "  reader = csv.reader(csvfile, delimiter=',')\n",
    "  for row in reader:\n",
    "    corr_feat.append(row)\n",
    "\n",
    "print (len(corr_feat))\n",
    "\n",
    "#for r in cf:\n",
    "#  print (r[0],r[1],r[2])\n",
    "\n"
   ]
  },
  {
   "cell_type": "markdown",
   "metadata": {
    "colab_type": "text",
    "id": "0LssdN6rv5DU"
   },
   "source": [
    "## Add Code below to process the data"
   ]
  },
  {
   "cell_type": "code",
   "execution_count": null,
   "metadata": {
    "colab": {},
    "colab_type": "code",
    "id": "plf3TUSquKOg"
   },
   "outputs": [],
   "source": [
    "#BASIC Template code - TO BE MODIFIED\n",
    "from dwave.system import DWaveSampler, EmbeddingComposite\n",
    "\n",
    "#Converts the QUBO into a BinaryQuadraticModel and then calls sample().\n",
    "sampler = EmbeddingComposite(DWaveSampler())\n",
    "\n",
    "#Example encoding for x0,x1,x2,x4: needs to be generalized based on dataset\n",
    "Q = {('x0', 'x0'):1, ('x1', 'x1'):1, ('x2', 'x2'):1, ('x3', 'x3'):1, ('x4', 'x4'):1,}\n",
    "\n",
    "results = sampler.sample_qubo(Q, num_reads=10000)\n",
    "\n",
    "# print the results\n",
    "for smpl, energy in results.data(['sample', 'energy']):\n",
    "    print(smpl, energy)"
   ]
  }
 ],
 "metadata": {
  "colab": {
   "collapsed_sections": [],
   "name": "CDL-DWaveSet.ipynb",
   "provenance": []
  },
  "kernelspec": {
   "display_name": "Python 3",
   "language": "python",
   "name": "python3"
  },
  "language_info": {
   "codemirror_mode": {
    "name": "ipython",
    "version": 3
   },
   "file_extension": ".py",
   "mimetype": "text/x-python",
   "name": "python",
   "nbconvert_exporter": "python",
   "pygments_lexer": "ipython3",
   "version": "3.7.7"
  }
 },
 "nbformat": 4,
 "nbformat_minor": 1
}
